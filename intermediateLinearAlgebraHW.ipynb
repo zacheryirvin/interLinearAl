{
  "cells": [
    {
      "cell_type": "code",
      "source": [
        "nj = require('jsnumpy')\n",
        "pd = require('pandas-js')\n",
        "plt = require('nodeplotlib')"
      ],
      "outputs": [
        {
          "output_type": "execute_result",
          "execution_count": 1,
          "data": {
            "text/plain": [
              "{ plot: [Function], clear: [Function], stack: [Function: s] }"
            ]
          },
          "metadata": {}
        }
      ],
      "execution_count": 1,
      "metadata": {
        "collapsed": true,
        "outputExpanded": false,
        "jupyter": {
          "source_hidden": false,
          "outputs_hidden": false
        },
        "nteract": {
          "transient": {
            "deleting": false
          }
        },
        "execution": {
          "iopub.status.busy": "2020-05-07T23:29:35.791Z",
          "iopub.execute_input": "2020-05-07T23:29:35.802Z",
          "iopub.status.idle": "2020-05-07T23:29:35.821Z",
          "shell.execute_reply": "2020-05-07T23:29:35.970Z"
        }
      }
    },
    {
      "cell_type": "markdown",
      "source": [
        "# Intermediat Linear Algebra HW"
      ],
      "metadata": {
        "nteract": {
          "transient": {
            "deleting": false
          }
        }
      }
    },
    {
      "cell_type": "markdown",
      "source": [
        "### Problem one\n",
        "  1. Sales for the past week was the following amounts: [3505, 2400, 3027, 2798, 3700, 3250, 2689]. Without using library functions, what is the mean, variance, and standard deviation of of sales from last week? (for extra bonus points, write your own function that can calculate these two values for any sized list)"
      ],
      "metadata": {
        "nteract": {
          "transient": {
            "deleting": false
          }
        }
      }
    },
    {
      "cell_type": "code",
      "source": [
        "pOneData = [3505, 2400, 3027, 2798, 3700, 3250, 2689]\n",
        "//Mean\n",
        "sum = pOneData.reduce((a,b) => {\n",
        "  return a + b\n",
        "})\n",
        "mean = sum / pOneData.length\n",
        "console.log('MEAN', mean)\n",
        "\n",
        "//Variance\n",
        "pOneDf = new pd.DataFrame(pOneData.map(x => {return {data: x}}))\n",
        "variance = (arr) => {\n",
        "  theMean = (arr.reduce((a,b) => {\n",
        "    return a + b\n",
        "  }))/(arr.length)\n",
        "  return (arr.map(x => {\n",
        "    return (x - theMean)**2\n",
        "  }).reduce((a,b) => {\n",
        "    return a+b\n",
        "  }))/(arr.length - 1)\n",
        "}\n",
        "pOneVariance = variance(pOneData)\n",
        "console.log('VARIANCE', pOneVariance)\n",
        "\n",
        "//Standard Deviation\n",
        "std = (num) => {\n",
        "  return Math.sqrt(num)\n",
        "}\n",
        "\n",
        "pOneStd = std(pOneVariance)\n",
        "pOneStd = Math.sqrt(pOneVariance)\n",
        "console.log('STD', pOneStd)"
      ],
      "outputs": [
        {
          "output_type": "stream",
          "name": "stdout",
          "text": [
            "MEAN 3052.714285714286\n",
            "VARIANCE 214387.90476190473\n",
            "STD 463.0204150595357\n"
          ]
        }
      ],
      "execution_count": 2,
      "metadata": {
        "collapsed": true,
        "outputExpanded": false,
        "jupyter": {
          "source_hidden": false,
          "outputs_hidden": false
        },
        "nteract": {
          "transient": {
            "deleting": false
          }
        },
        "execution": {
          "iopub.status.busy": "2020-05-07T23:29:35.838Z",
          "iopub.execute_input": "2020-05-07T23:29:35.847Z",
          "iopub.status.idle": "2020-05-07T23:29:35.871Z",
          "shell.execute_reply": "2020-05-07T23:29:35.978Z"
        }
      }
    },
    {
      "cell_type": "markdown",
      "source": [
        "### Problem Two\n",
        "2. Find the covariance between last week's sales numbers and the number of customers that entered the store last week: [127, 80, 105, 92, 120, 115, 93] (you may use librray functions for calculating the covariance since we didn't specifically talk about its formula)"
      ],
      "metadata": {
        "nteract": {
          "transient": {
            "deleting": false
          }
        }
      }
    },
    {
      "cell_type": "code",
      "source": [
        "pTwoData = [127,80,105,92,120,115,93]\n",
        "pTwoDf = new pd.DataFrame(pTwoData.map(x => {return {data: x}}))\n",
        "pTwoCovar = pTwoDf.cov()\n",
        "pTwoCovar = pTwoCovar._data._root.entries[0][1]._data._tail.array[0]\n",
        "console.log('Covariance', pTwoCovar)"
      ],
      "outputs": [
        {
          "output_type": "stream",
          "name": "stdout",
          "text": [
            "Covariance 290.952380952381\n"
          ]
        }
      ],
      "execution_count": 33,
      "metadata": {
        "collapsed": true,
        "outputExpanded": false,
        "jupyter": {
          "source_hidden": false,
          "outputs_hidden": false
        },
        "nteract": {
          "transient": {
            "deleting": false
          }
        },
        "execution": {
          "iopub.status.busy": "2020-05-08T00:50:08.449Z",
          "iopub.execute_input": "2020-05-08T00:50:08.453Z",
          "iopub.status.idle": "2020-05-08T00:50:08.459Z",
          "shell.execute_reply": "2020-05-08T00:50:08.463Z"
        }
      }
    },
    {
      "cell_type": "markdown",
      "source": [
        "### Problem Three\n",
        "  3. Find the standard deviation of customers who entered the store last week. Then, use the standard deviations of both sales and customers to standardize the covariance to find the correlation coefficient that summarizes the relationship between sales and customers. (You may use library functions to check your work."
      ],
      "metadata": {
        "nteract": {
          "transient": {
            "deleting": false
          }
        }
      }
    },
    {
      "cell_type": "code",
      "source": [
        "pTwoVariance = variance(pTwoData)\n",
        "pTwoStd = std(pTwoVariance)\n",
        "console.log('Variance', pTwoVariance)\n",
        "console.log('STD', pTwoStd)\n",
        "pThreeData = []\n",
        "for (let i = 0; i < pTwoData.length; i++) {\n",
        "  pOne = pOneData[i]\n",
        "  pTwo = pTwoData[i]\n",
        "  pThreeData.push({pOne, pTwo})\n",
        "}\n",
        "pThreePandas = new pd.DataFrame(pThreeData)\n",
        "console.log(pThreePandas.cov().toString())\n",
        "console.log(pThreePandas.corr().toString())\n",
        "pOneCov = pThreePandas.cov()._data._root.entries[0][1]._data._tail.array\n",
        "pTwoCov = pThreePandas.cov()._data._root.entries[1][1]._data._tail.array\n",
        "console.log(\"pOne/pOne\", pOneCov[0]/(pOneStd * pOneStd))\n",
        "console.log(\"pOne/pTwo\", pOneCov[1]/(pOneStd * pTwoStd))\n",
        "console.log(\"pTwo/pOne\", pTwoCov[0]/(pTwoStd * pOneStd))\n",
        "console.log(\"pTwo/pTwo\", pTwoCov[1]/(pTwoStd * pTwoStd))"
      ],
      "outputs": [
        {
          "output_type": "stream",
          "name": "stdout",
          "text": [
            "Variance 290.95238095238096\n",
            "STD 17.057326313123664\n",
            "\t|  pOne  |  pTwo  |\n",
            "--------------------\n",
            "pOne\t|  214387.9047619048  |  7604.357142857144  |\n",
            "pTwo\t|  7604.357142857144  |  290.952380952381  |\n",
            "\n",
            "\t|  pOne  |  pTwo  |\n",
            "--------------------\n",
            "pOne\t|  1  |  0.962833977814891  |\n",
            "pTwo\t|  0.962833977814891  |  1  |\n",
            "\n",
            "pOne/pOne 1.0000000000000002\n",
            "pOne/pTwo 0.9628339778148911\n",
            "pTwo/pOne 0.9628339778148911\n",
            "pTwo/pTwo 1.0000000000000004\n"
          ]
        }
      ],
      "execution_count": 55,
      "metadata": {
        "collapsed": true,
        "outputExpanded": false,
        "jupyter": {
          "source_hidden": false,
          "outputs_hidden": false
        },
        "nteract": {
          "transient": {
            "deleting": false
          }
        },
        "execution": {
          "iopub.status.busy": "2020-05-08T01:17:30.636Z",
          "iopub.execute_input": "2020-05-08T01:17:30.641Z",
          "iopub.status.idle": "2020-05-08T01:17:30.667Z",
          "shell.execute_reply": "2020-05-08T01:17:30.676Z"
        }
      }
    },
    {
      "cell_type": "markdown",
      "source": [
        "### Problem Four\n",
        "4. Use pandas to import a cleaned version of the titanic dataset from the following link: [Titanic Dataset](https://raw.githubusercontent.com/Geoyi/Cleaning-Titanic-Data/master/titanic_clean.csv)\n",
        "\n",
        "  * Calculate the variance-covariance matrix and correlation matrix for the titanic dataset's numeric columns. (you can encode some of the categorical variables and include them as a stretch goal if you finish early"
      ],
      "metadata": {
        "nteract": {
          "transient": {
            "deleting": false
          }
        }
      }
    },
    {
      "cell_type": "code",
      "source": [],
      "outputs": [],
      "execution_count": null,
      "metadata": {
        "collapsed": true,
        "outputExpanded": false,
        "jupyter": {
          "source_hidden": false,
          "outputs_hidden": false
        },
        "nteract": {
          "transient": {
            "deleting": false
          }
        }
      }
    },
    {
      "cell_type": "markdown",
      "source": [],
      "metadata": {
        "nteract": {
          "transient": {
            "deleting": false
          }
        }
      }
    }
  ],
  "metadata": {
    "kernel_info": {
      "name": "python3"
    },
    "language_info": {
      "name": "javascript",
      "version": "12.10.0",
      "mimetype": "application/javascript",
      "file_extension": ".js"
    },
    "kernelspec": {
      "argv": [
        "/home/zac/anaconda3/bin/python",
        "-m",
        "ipykernel_launcher",
        "-f",
        "{connection_file}"
      ],
      "display_name": "Python 3",
      "language": "python",
      "name": "python3"
    },
    "nteract": {
      "version": "0.23.1"
    }
  },
  "nbformat": 4,
  "nbformat_minor": 0
}