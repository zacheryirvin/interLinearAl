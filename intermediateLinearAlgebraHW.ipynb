{
  "cells": [
    {
      "cell_type": "code",
      "source": [
        "nj = require('jsnumpy')\n",
        "pd = require('pandas-js')\n",
        "plt = require('nodeplotlib')"
      ],
      "outputs": [
        {
          "output_type": "execute_result",
          "execution_count": 1,
          "data": {
            "text/plain": [
              "{ plot: [Function], clear: [Function], stack: [Function: s] }"
            ]
          },
          "metadata": {}
        }
      ],
      "execution_count": 1,
      "metadata": {
        "collapsed": true,
        "outputExpanded": false,
        "jupyter": {
          "source_hidden": false,
          "outputs_hidden": false
        },
        "nteract": {
          "transient": {
            "deleting": false
          }
        },
        "execution": {
          "iopub.status.busy": "2020-05-06T11:30:59.244Z",
          "iopub.execute_input": "2020-05-06T11:30:59.247Z",
          "iopub.status.idle": "2020-05-06T11:30:59.265Z",
          "shell.execute_reply": "2020-05-06T11:30:59.270Z"
        }
      }
    },
    {
      "cell_type": "markdown",
      "source": [
        "# Intermediat Linear Algebra HW"
      ],
      "metadata": {
        "nteract": {
          "transient": {
            "deleting": false
          }
        }
      }
    },
    {
      "cell_type": "markdown",
      "source": [
        "### Problem one\n",
        "  1. Sales for the past week was the following amounts: [3505, 2400, 3027, 2798, 3700, 3250, 2689]. Without using library functions, what is the mean, variance, and standard deviation of of sales from last week? (for extra bonus points, write your own function that can calculate these two values for any sized list)"
      ],
      "metadata": {
        "nteract": {
          "transient": {
            "deleting": false
          }
        }
      }
    },
    {
      "cell_type": "code",
      "source": [
        "pOneData = [3505, 2400, 3027, 2798, 3700, 3250, 2689]\n",
        "//Mean\n",
        "sum = pOneData.reduce((a,b) => {\n",
        "  return a + b\n",
        "})\n",
        "mean = sum / pOneData.length\n",
        "console.log('MEAN', mean)\n",
        "\n",
        "//Variance\n",
        "pOneDf = new pd.DataFrame(pOneData.map(x => {return {data: x}}))\n",
        "variance = (arr) => {\n",
        "  theMean = (arr.reduce((a,b) => {\n",
        "    return a + b\n",
        "  }))/(arr.length)\n",
        "  return (arr.map(x => {\n",
        "    return (x - theMean)**2\n",
        "  }).reduce((a,b) => {\n",
        "    return a+b\n",
        "  }))/(arr.length - 1)\n",
        "}\n",
        "pOneVariance = variance(pOneData)\n",
        "console.log('VARIANCE', pOneVariance)\n",
        "\n",
        "std = (num) => {\n",
        "  return Math.sqrt(num)\n",
        "}\n",
        "\n",
        "pOneStd = std(pOneVariance)\n",
        "//Standard Deviation\n",
        "pOneStd = Math.sqrt(pOneVariance)\n",
        "console.log('STD', pOneStd)"
      ],
      "outputs": [
        {
          "output_type": "stream",
          "name": "stdout",
          "text": [
            "MEAN 3052.714285714286\n",
            "VARIANCE 214387.90476190473\n",
            "STD 463.0204150595357\n"
          ]
        }
      ],
      "execution_count": 40,
      "metadata": {
        "collapsed": true,
        "outputExpanded": false,
        "jupyter": {
          "source_hidden": false,
          "outputs_hidden": false
        },
        "nteract": {
          "transient": {
            "deleting": false
          }
        },
        "execution": {
          "iopub.status.busy": "2020-05-06T12:31:07.484Z",
          "iopub.execute_input": "2020-05-06T12:31:07.488Z",
          "iopub.status.idle": "2020-05-06T12:31:07.496Z",
          "shell.execute_reply": "2020-05-06T12:31:07.500Z"
        }
      }
    },
    {
      "cell_type": "markdown",
      "source": [
        "### Problem Two\n",
        "2. Find the covariance between last week's sales numbers and the number of customers that entered the store last week: [127, 80, 105, 92, 120, 115, 93] (you may use librray functions for calculating the covariance since we didn't specifically talk about its formula)"
      ],
      "metadata": {
        "nteract": {
          "transient": {
            "deleting": false
          }
        }
      }
    },
    {
      "cell_type": "code",
      "source": [
        "pTwoData = [127,80,105,92,120,115,93]\n",
        "pTwoDf = new pd.DataFrame(pTwoData.map(x => {return {data: x}}))\n",
        "pTwoCovar = pTwoDf.cov()\n",
        "pTwoCovar = pTwoCovar._data._root.entries[0][1]._data._tail.array[0]\n",
        "console.log('Covariance', pTwoCovar)"
      ],
      "outputs": [
        {
          "output_type": "stream",
          "name": "stdout",
          "text": [
            "Covariance 290.952380952381\n"
          ]
        }
      ],
      "execution_count": 92,
      "metadata": {
        "collapsed": true,
        "outputExpanded": false,
        "jupyter": {
          "source_hidden": false,
          "outputs_hidden": false
        },
        "nteract": {
          "transient": {
            "deleting": false
          }
        },
        "execution": {
          "iopub.status.busy": "2020-05-06T12:43:44.405Z",
          "iopub.execute_input": "2020-05-06T12:43:44.409Z",
          "iopub.status.idle": "2020-05-06T12:43:44.416Z",
          "shell.execute_reply": "2020-05-06T12:43:44.419Z"
        }
      }
    },
    {
      "cell_type": "markdown",
      "source": [
        "### Problem Three\n",
        "  3. Find the standard deviation of customers who entered the store last week. Then, use the standard deviations of both sales and customers to standardize the covariance to find the correlation coefficient that summarizes the relationship between sales and customers. (You may use library functions to check your work."
      ],
      "metadata": {
        "nteract": {
          "transient": {
            "deleting": false
          }
        }
      }
    },
    {
      "cell_type": "code",
      "source": [],
      "outputs": [],
      "execution_count": null,
      "metadata": {
        "collapsed": true,
        "outputExpanded": false,
        "jupyter": {
          "source_hidden": false,
          "outputs_hidden": false
        },
        "nteract": {
          "transient": {
            "deleting": false
          }
        }
      }
    },
    {
      "cell_type": "markdown",
      "source": [
        "### Problem Four\n",
        "4. Use pandas to import a cleaned version of the titanic dataset from the following link: [Titanic Dataset](https://raw.githubusercontent.com/Geoyi/Cleaning-Titanic-Data/master/titanic_clean.csv)\n",
        "\n",
        "  * Calculate the variance-covariance matrix and correlation matrix for the titanic dataset's numeric columns. (you can encode some of the categorical variables and include them as a stretch goal if you finish early"
      ],
      "metadata": {
        "nteract": {
          "transient": {
            "deleting": false
          }
        }
      }
    },
    {
      "cell_type": "markdown",
      "source": [],
      "metadata": {
        "nteract": {
          "transient": {
            "deleting": false
          }
        }
      }
    }
  ],
  "metadata": {
    "kernel_info": {
      "name": "python3"
    },
    "language_info": {
      "name": "javascript",
      "version": "12.10.0",
      "mimetype": "application/javascript",
      "file_extension": ".js"
    },
    "kernelspec": {
      "argv": [
        "/home/zac/anaconda3/bin/python",
        "-m",
        "ipykernel_launcher",
        "-f",
        "{connection_file}"
      ],
      "display_name": "Python 3",
      "language": "python",
      "name": "python3"
    },
    "nteract": {
      "version": "0.23.1"
    }
  },
  "nbformat": 4,
  "nbformat_minor": 0
}