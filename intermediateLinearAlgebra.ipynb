{
  "cells": [
    {
      "cell_type": "code",
      "source": [
        "nj = require('jsnumpy')\n",
        "pd = require('pandas-js')\n",
        "plt = require('nodeplotlib')"
      ],
      "outputs": [
        {
          "output_type": "execute_result",
          "execution_count": 2,
          "data": {
            "text/plain": [
              "{ plot: [Function], clear: [Function], stack: [Function: s] }"
            ]
          },
          "metadata": {}
        }
      ],
      "execution_count": 2,
      "metadata": {
        "collapsed": true,
        "outputExpanded": false,
        "jupyter": {
          "source_hidden": false,
          "outputs_hidden": false
        },
        "nteract": {
          "transient": {
            "deleting": false
          }
        },
        "execution": {
          "iopub.status.busy": "2020-05-03T16:57:14.521Z",
          "iopub.execute_input": "2020-05-03T16:57:14.524Z",
          "iopub.status.idle": "2020-05-03T16:57:14.586Z",
          "shell.execute_reply": "2020-05-03T16:57:14.568Z"
        }
      }
    },
    {
      "cell_type": "markdown",
      "source": [
        "## Standard Deviation\n",
        "  1. First is to calculate the __varience__\n",
        "     1. Take __mean__ \"average\" of values and subtract value from that mean. \n",
        "     2. __Square__ that value. \"eliminates negatative values\"\n",
        "     3. sum up those values and divide by the number of values \"observations\"\n",
        "     4. square-root that value = __standard deviation__\n",
        "     "
      ],
      "metadata": {
        "nteract": {
          "transient": {
            "deleting": false
          }
        }
      }
    },
    {
      "cell_type": "code",
      "source": [
        "generateRandomNumberRange = (min, max) => {\n",
        "  return Math.floor(Math.random()*((max-min)+1)+min)\n",
        "}"
      ],
      "outputs": [
        {
          "output_type": "execute_result",
          "execution_count": 3,
          "data": {
            "text/plain": [
              "[Function: generateRandomNumberRange]"
            ]
          },
          "metadata": {}
        }
      ],
      "execution_count": 3,
      "metadata": {
        "collapsed": true,
        "outputExpanded": false,
        "jupyter": {
          "source_hidden": false,
          "outputs_hidden": false
        },
        "nteract": {
          "transient": {
            "deleting": false
          }
        },
        "execution": {
          "iopub.status.busy": "2020-05-03T16:57:14.591Z",
          "iopub.execute_input": "2020-05-03T16:57:14.595Z",
          "iopub.status.idle": "2020-05-03T16:57:14.602Z",
          "shell.execute_reply": "2020-05-03T16:57:14.571Z"
        }
      }
    },
    {
      "cell_type": "markdown",
      "source": [
        "#### Pandas js and Jsnumpy\n",
        "  1. format for pandas dataset is an array of objects\n",
        "    * ex. [{x: data, y: data}]\n",
        "  2. jsnumpy striclty uses arrays. \n",
        "    * ex. [[data],[data]]\n",
        "  3. The above two examples would represent the same data."
      ],
      "metadata": {
        "nteract": {
          "transient": {
            "deleting": false
          }
        }
      }
    },
    {
      "cell_type": "code",
      "source": [
        "njdata = [[],[]]\n",
        "pandasdata = []\n",
        "for (let i = 0; i < 200; i++) {\n",
        "  firstNum = generateRandomNumberRange(25,50)\n",
        "  secNum = generateRandomNumberRange(0,100)\n",
        "  pandasdata.push({v1:firstNum, v2:secNum})\n",
        "  njdata[0].push(firstNum)\n",
        "  njdata[1].push(secNum)\n",
        "}"
      ],
      "outputs": [
        {
          "output_type": "execute_result",
          "execution_count": 4,
          "data": {
            "text/plain": [
              "200"
            ]
          },
          "metadata": {}
        }
      ],
      "execution_count": 4,
      "metadata": {
        "collapsed": true,
        "outputExpanded": false,
        "jupyter": {
          "source_hidden": false,
          "outputs_hidden": false
        },
        "nteract": {
          "transient": {
            "deleting": false
          }
        },
        "execution": {
          "iopub.status.busy": "2020-05-03T16:57:14.608Z",
          "iopub.execute_input": "2020-05-03T16:57:14.612Z",
          "iopub.status.idle": "2020-05-03T16:57:14.621Z",
          "shell.execute_reply": "2020-05-03T16:57:14.575Z"
        }
      }
    },
    {
      "cell_type": "code",
      "source": [
        "df = new pd.DataFrame(pandasdata)\n",
        "df = df.set('zeros', new Array(200).fill(0))\n",
        "variance = df.get('v1').variance()\n",
        "njvariance = nj.populationVariance(njdata[0])\n",
        "console.log(Math.sqrt(variance), Math.sqrt(njvariance))"
      ],
      "outputs": [
        {
          "output_type": "stream",
          "name": "stdout",
          "text": [
            "7.522502256630105 7.50367243421513\n"
          ]
        }
      ],
      "execution_count": 23,
      "metadata": {
        "collapsed": true,
        "outputExpanded": false,
        "jupyter": {
          "source_hidden": false,
          "outputs_hidden": false
        },
        "nteract": {
          "transient": {
            "deleting": false
          }
        },
        "execution": {
          "iopub.status.busy": "2020-05-04T01:55:53.207Z",
          "iopub.execute_input": "2020-05-04T01:55:53.210Z",
          "iopub.status.idle": "2020-05-04T01:55:53.216Z",
          "shell.execute_reply": "2020-05-04T01:55:53.222Z"
        }
      }
    },
    {
      "cell_type": "code",
      "source": [
        "df.get('v2').mean()\n",
        "one = nj.populationStandardDeviation(njdata[0])\n",
        "two = nj.populationStandardDeviation(njdata[1])\n",
        "three = df.std()._data\n",
        "console.log(one, two, three)"
      ],
      "outputs": [
        {
          "output_type": "stream",
          "name": "stdout",
          "text": [
            "7.50367243421513 29.128680025020017 [ 7.522502256630105, 29.201775949297417, 0 ]\n"
          ]
        }
      ],
      "execution_count": 7,
      "metadata": {
        "collapsed": true,
        "outputExpanded": false,
        "jupyter": {
          "source_hidden": false,
          "outputs_hidden": false
        },
        "nteract": {
          "transient": {
            "deleting": false
          }
        },
        "execution": {
          "iopub.status.busy": "2020-05-03T16:57:58.164Z",
          "iopub.execute_input": "2020-05-03T16:57:58.168Z",
          "iopub.status.idle": "2020-05-03T16:57:58.175Z",
          "shell.execute_reply": "2020-05-03T16:57:58.180Z"
        }
      }
    },
    {
      "cell_type": "markdown",
      "source": [
        "## Covariance\n",
        "  1. How two datasets relate to each other\n",
        "    * x increase and y decreases === __negative covariance__\n",
        "    * x increase and y increase === __postive covariance__\n",
        "    * no distinguishable patter === __zero covariance__"
      ],
      "metadata": {
        "nteract": {
          "transient": {
            "deleting": false
          }
        }
      }
    },
    {
      "cell_type": "code",
      "source": [
        " a = nj.arange(1,9)\n",
        " b = nj.arange(1,9)\n",
        " temp = nj.copy(a)\n",
        " c = nj.multiply(temp, 10)\n",
        " d = nj.copy(c)\n",
        "pandasData = []\n",
        "for (let i = 0; i < a.length; i++) {\n",
        "  one = a[i]\n",
        "  two = b[i]\n",
        "  three = c[i]\n",
        "  four = d[i]\n",
        "  pandasData.push({a: one, b: two, c: three, d: four})\n",
        "}\n"
      ],
      "outputs": [
        {
          "output_type": "execute_result",
          "execution_count": 28,
          "data": {
            "text/plain": [
              "9"
            ]
          },
          "metadata": {}
        }
      ],
      "execution_count": 28,
      "metadata": {
        "collapsed": true,
        "outputExpanded": false,
        "jupyter": {
          "source_hidden": false,
          "outputs_hidden": false
        },
        "nteract": {
          "transient": {
            "deleting": false
          }
        },
        "execution": {
          "iopub.status.busy": "2020-05-04T02:15:24.877Z",
          "iopub.execute_input": "2020-05-04T02:15:24.881Z",
          "iopub.status.idle": "2020-05-04T02:15:24.889Z",
          "shell.execute_reply": "2020-05-04T02:15:24.892Z"
        }
      }
    },
    {
      "cell_type": "code",
      "source": [
        "plt.plot([{x: a, y: b, mode: 'markers'}, {x: c, y: d, mode: 'markers'}])"
      ],
      "outputs": [],
      "execution_count": 30,
      "metadata": {
        "collapsed": true,
        "outputExpanded": false,
        "jupyter": {
          "source_hidden": false,
          "outputs_hidden": false
        },
        "nteract": {
          "transient": {
            "deleting": false
          }
        },
        "execution": {
          "iopub.status.busy": "2020-05-04T02:17:44.507Z",
          "iopub.execute_input": "2020-05-04T02:17:44.512Z",
          "iopub.status.idle": "2020-05-04T02:17:44.517Z",
          "shell.execute_reply": "2020-05-04T02:17:44.525Z"
        }
      }
    },
    {
      "cell_type": "code",
      "source": [
        "dfTwo = new pd.DataFrame(pandasData)\n",
        "cov = dfTwo.cov()\n",
        "cov.toString()"
      ],
      "outputs": [
        {
          "output_type": "execute_result",
          "execution_count": 55,
          "data": {
            "text/plain": [
              "'\\t|  a  |  b  |  c  |  d  |\\n' +\n",
              "  '--------------------------\\n' +\n",
              "  'a\\t|  7.499999999999999  |  7.499999999999999  |  75  |  75  |\\n' +\n",
              "  'b\\t|  7.499999999999999  |  7.499999999999999  |  75  |  75  |\\n' +\n",
              "  'c\\t|  75  |  75  |  750  |  750  |\\n' +\n",
              "  'd\\t|  75  |  75  |  750  |  750  |\\n'"
            ]
          },
          "metadata": {}
        }
      ],
      "execution_count": 55,
      "metadata": {
        "collapsed": true,
        "outputExpanded": false,
        "jupyter": {
          "source_hidden": false,
          "outputs_hidden": false
        },
        "nteract": {
          "transient": {
            "deleting": false
          }
        },
        "execution": {
          "iopub.status.busy": "2020-05-04T02:41:37.690Z",
          "iopub.execute_input": "2020-05-04T02:41:37.694Z",
          "iopub.status.idle": "2020-05-04T02:41:37.703Z",
          "shell.execute_reply": "2020-05-04T02:41:37.707Z"
        }
      }
    },
    {
      "cell_type": "markdown",
      "source": [
        "## Correlation\n",
        "  1. Defined as __covariance values__ divided by the product of the __standard deviations__ of the two variables.\n",
        "  2. Also called the __Correlation Coefficient__\n",
        "  3. The closer to __1__ === __linear positive slope__\n",
        "  4. closer to __-1__ === __linear negative slope__"
      ],
      "metadata": {
        "nteract": {
          "transient": {
            "deleting": false
          }
        }
      }
    },
    {
      "cell_type": "code",
      "source": [
        "dfTwo.corr().toString()"
      ],
      "outputs": [
        {
          "output_type": "execute_result",
          "execution_count": 57,
          "data": {
            "text/plain": [
              "'\\t|  a  |  b  |  c  |  d  |\\n' +\n",
              "  '--------------------------\\n' +\n",
              "  'a\\t|  1  |  0.9999999999999999  |  1  |  1  |\\n' +\n",
              "  'b\\t|  0.9999999999999999  |  1  |  1  |  1  |\\n' +\n",
              "  'c\\t|  1  |  1  |  1  |  0.9999999999999999  |\\n' +\n",
              "  'd\\t|  1  |  1  |  0.9999999999999999  |  1  |\\n'"
            ]
          },
          "metadata": {}
        }
      ],
      "execution_count": 57,
      "metadata": {
        "collapsed": true,
        "outputExpanded": false,
        "jupyter": {
          "source_hidden": false,
          "outputs_hidden": false
        },
        "nteract": {
          "transient": {
            "deleting": false
          }
        },
        "execution": {
          "iopub.status.busy": "2020-05-04T02:50:02.592Z",
          "iopub.execute_input": "2020-05-04T02:50:02.599Z",
          "iopub.status.idle": "2020-05-04T02:50:02.611Z",
          "shell.execute_reply": "2020-05-04T02:50:02.614Z"
        }
      }
    },
    {
      "cell_type": "markdown",
      "source": [
        "## "
      ],
      "metadata": {
        "nteract": {
          "transient": {
            "deleting": false
          }
        }
      }
    }
  ],
  "metadata": {
    "kernel_info": {
      "name": "python3"
    },
    "language_info": {
      "name": "javascript",
      "version": "12.10.0",
      "mimetype": "application/javascript",
      "file_extension": ".js"
    },
    "kernelspec": {
      "argv": [
        "/home/zac/anaconda3/bin/python",
        "-m",
        "ipykernel_launcher",
        "-f",
        "{connection_file}"
      ],
      "display_name": "Python 3",
      "language": "python",
      "name": "python3"
    },
    "nteract": {
      "version": "0.23.1"
    }
  },
  "nbformat": 4,
  "nbformat_minor": 0
}