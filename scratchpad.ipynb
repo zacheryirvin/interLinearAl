{
  "cells": [
    {
      "cell_type": "code",
      "source": [
        "pd = require('pandas-js')\n",
        "nj = require('jsnumpy')\n",
        "np = require('mathjs')\n",
        "plt = require('nodeplotlib')"
      ],
      "outputs": [
        {
          "output_type": "execute_result",
          "execution_count": 2,
          "data": {
            "text/plain": [
              "{ plot: [Function], clear: [Function], stack: [Function: s] }"
            ]
          },
          "metadata": {}
        }
      ],
      "execution_count": 2,
      "metadata": {
        "collapsed": true,
        "outputExpanded": false,
        "jupyter": {
          "source_hidden": false,
          "outputs_hidden": false
        },
        "nteract": {
          "transient": {
            "deleting": false
          }
        },
        "execution": {
          "iopub.status.busy": "2020-05-13T03:03:20.625Z",
          "iopub.execute_input": "2020-05-13T03:03:20.628Z",
          "iopub.status.idle": "2020-05-13T03:03:21.090Z",
          "shell.execute_reply": "2020-05-13T03:03:21.085Z"
        }
      }
    },
    {
      "cell_type": "code",
      "source": [
        "arrOne = [[2,1],[1,-3]]\n",
        "arrTwo = [[3],[4]]\n",
        "T = nj.matrixMultiply(arrOne,arrTwo)\n",
        "pOne = {x: [0,3], y: [0,4]}\n",
        "pTwo = {x: [0,10], y: [0, -9]}\n",
        "console.log(T)"
      ],
      "outputs": [
        {
          "output_type": "stream",
          "name": "stdout",
          "text": [
            "[ [ 10 ], [ -9 ] ]\n"
          ]
        }
      ],
      "execution_count": 73,
      "metadata": {
        "collapsed": true,
        "outputExpanded": false,
        "jupyter": {
          "source_hidden": false,
          "outputs_hidden": false
        },
        "nteract": {
          "transient": {
            "deleting": false
          }
        },
        "execution": {
          "iopub.status.busy": "2020-05-12T20:14:27.891Z",
          "iopub.execute_input": "2020-05-12T20:14:27.897Z",
          "iopub.status.idle": "2020-05-12T20:14:27.909Z",
          "shell.execute_reply": "2020-05-12T20:14:27.924Z"
        }
      }
    },
    {
      "cell_type": "code",
      "source": [
        "x = [\n",
        "  [1,2],\n",
        "  [3,4],\n",
        "  [5,6]\n",
        "]\n",
        "means = np.mean(x,0)\n",
        "console.log('Means', means)\n",
        "centered = nj.subtract(x, means)\n",
        "console.log('Centered', centered)\n",
        "std = np.std(x, 0, 'uncorrected')\n",
        "console.log('STD', std)\n",
        "stand = nj.divide(centered, std)\n",
        "console.log('Standardized', stand)\n",
        "trans = np.ctranspose(stand)\n",
        "before = nj.matrixMultiply(trans, stand)\n",
        "cov = nj.divide(before, 2)\n",
        "console.log('Covariance Matrix', cov)\n",
        "eig = np.eigs(np.ctranspose(cov))\n",
        "values = eig.values\n",
        "vectors = eig.vectors\n",
        "console.log('EigValues', values)\n",
        "console.log('EigVectors', nj.transpose(vectors))\n",
        "p = nj.matrixMultiply(centered, nj.transpose(vectors))\n"
      ],
      "outputs": [
        {
          "output_type": "stream",
          "name": "stdout",
          "text": [
            "Means [ 3, 4 ]\n",
            "Centered [ [ -2, -2 ], [ 0, 0 ], [ 2, 2 ] ]\n",
            "STD [ 1.632993161855452, 1.632993161855452 ]\n",
            "Standardized [\n",
            "  [ -1.224744871391589, -1.224744871391589 ],\n",
            "  [ 0, 0 ],\n",
            "  [ 1.224744871391589, 1.224744871391589 ]\n",
            "]\n",
            "Covariance Matrix [\n",
            "  [ 1.4999999999999998, 1.4999999999999998 ],\n",
            "  [ 1.4999999999999998, 1.4999999999999998 ]\n",
            "]\n",
            "EigValues [ 0, 2.9999999999999996 ]\n",
            "EigVectors [\n",
            "  [ 0.7071067811865476, -0.7071067811865475 ],\n",
            "  [ 0.7071067811865475, 0.7071067811865476 ]\n",
            "]\n"
          ]
        },
        {
          "output_type": "execute_result",
          "execution_count": 59,
          "data": {
            "text/plain": [
              "[\n",
              "  [ -2.82842712474619, -2.220446049250313e-16 ],\n",
              "  [ 0, 0 ],\n",
              "  [ 2.82842712474619, 2.220446049250313e-16 ]\n",
              "]"
            ]
          },
          "metadata": {}
        }
      ],
      "execution_count": 59,
      "metadata": {
        "collapsed": true,
        "outputExpanded": false,
        "jupyter": {
          "source_hidden": false,
          "outputs_hidden": false
        },
        "nteract": {
          "transient": {
            "deleting": false
          }
        },
        "execution": {
          "iopub.status.busy": "2020-05-13T04:10:49.033Z",
          "iopub.execute_input": "2020-05-13T04:10:49.035Z",
          "iopub.status.idle": "2020-05-13T04:10:49.053Z",
          "shell.execute_reply": "2020-05-13T04:10:49.061Z"
        }
      }
    },
    {
      "cell_type": "code",
      "source": [
        "xs = []\n",
        "ys = []\n",
        "x.forEach(x => {\n",
        "  xs.push(x[0])\n",
        "  ys.push(x[1])\n",
        "})\n",
        "xp = p.map(x => x[0])\n",
        "yp = p.map(x => x[1])\n",
        "plt.plot([{x:xs, y:ys, mode: 'markers'}, {x:xp, y:yp, mode: 'markers'}], {height: 600, width: 600})"
      ],
      "outputs": [],
      "execution_count": 60,
      "metadata": {
        "collapsed": true,
        "outputExpanded": false,
        "jupyter": {
          "source_hidden": false,
          "outputs_hidden": false
        },
        "nteract": {
          "transient": {
            "deleting": false
          }
        },
        "execution": {
          "iopub.status.busy": "2020-05-13T04:12:00.669Z",
          "iopub.execute_input": "2020-05-13T04:12:00.677Z",
          "iopub.status.idle": "2020-05-13T04:12:00.685Z",
          "shell.execute_reply": "2020-05-13T04:12:00.693Z"
        }
      }
    },
    {
      "cell_type": "code",
      "source": [
        "from numpy import array\n",
        "from numpy import mean\n",
        "from numpy import std\n",
        "from numpy import cov\n",
        "from numpy.linalg import eig\n",
        "# define a matrix (we'll pretend that we've already separated our X and Y matrices)\n",
        "X = array([[1, 2], [3, 4], [5, 6]])\n",
        "print(\"Data: \", X)\n",
        "# calculate the mean of each column\n",
        "means = mean(X.T, axis=1)\n",
        "print(\"\\n Means: \\n\", means)\n",
        "# center columns by subtracting column means\n",
        "centered_data = X - means\n",
        "print(\"\\n Centered Data: \\n\", centered_data)\n",
        "# calculate the standard deviation of each column\n",
        "std_devs = std(X.T, axis=1)\n",
        "testStd = std([1,3,5])\n",
        "print('\\n trans', X.T)\n",
        "print(\"\\n STD:\", std_devs)\n",
        "# complete the standardization by dividing by std_dev\n",
        "standardized_data = centered_data / std_devs\n",
        "print(\"\\n Standardized Data: \\n\", standardized_data)\n",
        "# calculate covariance matrix of centered matrix\n",
        "# We're not going to find the covaraicne matrix by the (Z^T)(Z) method, I trust this function more\n",
        "covariance_matrix = cov(standardized_data.T)\n",
        "print(\"\\n Covariance Matrix: \\n\", covariance_matrix)\n",
        "# eigendecomposition of covariance matrix\n",
        "values, vectors = eig(covariance_matrix)\n",
        "print(\"\\n Eigenvectors: \\n\", vectors)\n",
        "print(\"\\n Eigenvalues: \\n\", values)\n",
        "# project data\n",
        "P = vectors.T.dot(centered_data.T)\n",
        "print(\"\\n Projected Data: \\n\", P.T)"
      ],
      "outputs": [
        {
          "output_type": "stream",
          "name": "stdout",
          "text": [
            "Data:  [[1 2]\n",
            " [3 4]\n",
            " [5 6]]\n",
            "\n",
            " Means: \n",
            " [3. 4.]\n",
            "\n",
            " Centered Data: \n",
            " [[-2. -2.]\n",
            " [ 0.  0.]\n",
            " [ 2.  2.]]\n",
            "\n",
            " trans [[1 3 5]\n",
            " [2 4 6]]\n",
            "\n",
            " STD: [1.63299316 1.63299316]\n",
            "\n",
            " Standardized Data: \n",
            " [[-1.22474487 -1.22474487]\n",
            " [ 0.          0.        ]\n",
            " [ 1.22474487  1.22474487]]\n",
            "\n",
            " Covariance Matrix: \n",
            " [[1.5 1.5]\n",
            " [1.5 1.5]]\n",
            "\n",
            " Eigenvectors: \n",
            " [[ 0.70710678 -0.70710678]\n",
            " [ 0.70710678  0.70710678]]\n",
            "\n",
            " Eigenvalues: \n",
            " [3. 0.]\n",
            "\n",
            " Projected Data: \n",
            " [[-2.82842712  0.        ]\n",
            " [ 0.          0.        ]\n",
            " [ 2.82842712  0.        ]]\n"
          ]
        }
      ],
      "execution_count": 6,
      "metadata": {
        "collapsed": true,
        "outputExpanded": false,
        "jupyter": {
          "source_hidden": false,
          "outputs_hidden": false
        },
        "nteract": {
          "transient": {
            "deleting": false
          }
        },
        "execution": {
          "iopub.status.busy": "2020-05-13T03:02:38.159Z",
          "iopub.execute_input": "2020-05-13T03:02:38.161Z",
          "iopub.status.idle": "2020-05-13T03:02:38.169Z",
          "shell.execute_reply": "2020-05-13T03:02:38.189Z"
        }
      }
    }
  ],
  "metadata": {
    "kernel_info": {
      "name": "python3"
    },
    "language_info": {
      "name": "javascript",
      "version": "12.10.0",
      "mimetype": "application/javascript",
      "file_extension": ".js"
    },
    "kernelspec": {
      "argv": [
        "/home/zac/anaconda3/bin/python",
        "-m",
        "ipykernel_launcher",
        "-f",
        "{connection_file}"
      ],
      "display_name": "Python 3",
      "language": "python",
      "name": "python3"
    },
    "nteract": {
      "version": "0.23.1"
    }
  },
  "nbformat": 4,
  "nbformat_minor": 0
}